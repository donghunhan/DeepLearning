{
  "nbformat": 4,
  "nbformat_minor": 0,
  "metadata": {
    "colab": {
      "name": "balloon.ipynb",
      "provenance": [],
      "collapsed_sections": [],
      "toc_visible": true
    },
    "kernelspec": {
      "name": "python3",
      "display_name": "Python 3"
    },
    "accelerator": "GPU"
  },
  "cells": [
    {
      "cell_type": "markdown",
      "metadata": {
        "id": "9wyfFrIgAcqO"
      },
      "source": [
        "# Mask R-CNN"
      ]
    },
    {
      "cell_type": "markdown",
      "metadata": {
        "id": "w5xPc4HfAjKs"
      },
      "source": [
        "## github에서 Mask R-CNN 코드 가져오기"
      ]
    },
    {
      "cell_type": "code",
      "metadata": {
        "colab": {
          "base_uri": "https://localhost:8080/"
        },
        "id": "ZYi1g7wGKcdo",
        "outputId": "47577c90-9b90-4df4-b603-0c3b924d19eb"
      },
      "source": [
        "!git clone https://github.com/matterport/Mask_RCNN.git"
      ],
      "execution_count": null,
      "outputs": [
        {
          "output_type": "stream",
          "text": [
            "Cloning into 'Mask_RCNN'...\n",
            "remote: Enumerating objects: 956, done.\u001b[K\n",
            "remote: Total 956 (delta 0), reused 0 (delta 0), pack-reused 956\u001b[K\n",
            "Receiving objects: 100% (956/956), 125.23 MiB | 41.09 MiB/s, done.\n",
            "Resolving deltas: 100% (560/560), done.\n"
          ],
          "name": "stdout"
        }
      ]
    },
    {
      "cell_type": "markdown",
      "metadata": {
        "id": "WuhypnLuApt1"
      },
      "source": [
        "## 가져온 코드내의 폴더로 이동"
      ]
    },
    {
      "cell_type": "code",
      "metadata": {
        "colab": {
          "base_uri": "https://localhost:8080/"
        },
        "id": "nW7W8fNsRLth",
        "outputId": "783b1385-1465-4d64-e7e5-df7d07bbdc89"
      },
      "source": [
        "%cd /content/Mask_RCNN"
      ],
      "execution_count": null,
      "outputs": [
        {
          "output_type": "stream",
          "text": [
            "/content/Mask_RCNN\n"
          ],
          "name": "stdout"
        }
      ]
    },
    {
      "cell_type": "markdown",
      "metadata": {
        "id": "1Em5zRSmAxAT"
      },
      "source": [
        "## Mask R-CNN 학습에 알맞은 텐서플로우와 케라스 버전으로 다운그레이드"
      ]
    },
    {
      "cell_type": "code",
      "metadata": {
        "colab": {
          "base_uri": "https://localhost:8080/"
        },
        "id": "8dyvLpMZRJm3",
        "outputId": "75f207b8-4459-4089-a411-2585b0df223f"
      },
      "source": [
        "!pip install tensorboard==1.15.0 tensorflow==1.15.0 tensorflow-estimator==1.15.1 tensorflow-gpu==1.15.2 tensorflow-gpu-estimator==2.1.0 Keras==2.2.5 Keras-Applications==1.0.8 Keras-Preprocessing==1.1.0"
      ],
      "execution_count": null,
      "outputs": [
        {
          "output_type": "stream",
          "text": [
            "Collecting tensorboard==1.15.0\n",
            "\u001b[?25l  Downloading https://files.pythonhosted.org/packages/1e/e9/d3d747a97f7188f48aa5eda486907f3b345cd409f0a0850468ba867db246/tensorboard-1.15.0-py3-none-any.whl (3.8MB)\n",
            "\u001b[K     |████████████████████████████████| 3.8MB 23.1MB/s \n",
            "\u001b[?25hCollecting tensorflow==1.15.0\n",
            "\u001b[?25l  Downloading https://files.pythonhosted.org/packages/3f/98/5a99af92fb911d7a88a0005ad55005f35b4c1ba8d75fba02df726cd936e6/tensorflow-1.15.0-cp36-cp36m-manylinux2010_x86_64.whl (412.3MB)\n",
            "\u001b[K     |████████████████████████████████| 412.3MB 40kB/s \n",
            "\u001b[?25hCollecting tensorflow-estimator==1.15.1\n",
            "\u001b[?25l  Downloading https://files.pythonhosted.org/packages/de/62/2ee9cd74c9fa2fa450877847ba560b260f5d0fb70ee0595203082dafcc9d/tensorflow_estimator-1.15.1-py2.py3-none-any.whl (503kB)\n",
            "\u001b[K     |████████████████████████████████| 512kB 48.2MB/s \n",
            "\u001b[?25hCollecting tensorflow-gpu==1.15.2\n",
            "\u001b[?25l  Downloading https://files.pythonhosted.org/packages/32/ca/58e40e5077fa2a92004f398d705a288e958434f123938f4ce75ffe25b64b/tensorflow_gpu-1.15.2-cp36-cp36m-manylinux2010_x86_64.whl (411.0MB)\n",
            "\u001b[K     |████████████████████████████████| 411.0MB 44kB/s \n",
            "\u001b[?25hCollecting tensorflow-gpu-estimator==2.1.0\n",
            "\u001b[?25l  Downloading https://files.pythonhosted.org/packages/06/9e/57edfd2684d46992850522bf3dad4807fa15b80ade090f64ffa544abbeea/tensorflow_gpu_estimator-2.1.0-py2.py3-none-any.whl (464kB)\n",
            "\u001b[K     |████████████████████████████████| 471kB 54.3MB/s \n",
            "\u001b[?25hCollecting Keras==2.2.5\n",
            "\u001b[?25l  Downloading https://files.pythonhosted.org/packages/f8/ba/2d058dcf1b85b9c212cc58264c98a4a7dd92c989b798823cc5690d062bb2/Keras-2.2.5-py2.py3-none-any.whl (336kB)\n",
            "\u001b[K     |████████████████████████████████| 337kB 48.2MB/s \n",
            "\u001b[?25hCollecting Keras-Applications==1.0.8\n",
            "\u001b[?25l  Downloading https://files.pythonhosted.org/packages/71/e3/19762fdfc62877ae9102edf6342d71b28fbfd9dea3d2f96a882ce099b03f/Keras_Applications-1.0.8-py3-none-any.whl (50kB)\n",
            "\u001b[K     |████████████████████████████████| 51kB 9.4MB/s \n",
            "\u001b[?25hCollecting Keras-Preprocessing==1.1.0\n",
            "\u001b[?25l  Downloading https://files.pythonhosted.org/packages/28/6a/8c1f62c37212d9fc441a7e26736df51ce6f0e38455816445471f10da4f0a/Keras_Preprocessing-1.1.0-py2.py3-none-any.whl (41kB)\n",
            "\u001b[K     |████████████████████████████████| 51kB 9.7MB/s \n",
            "\u001b[?25hRequirement already satisfied: absl-py>=0.4 in /usr/local/lib/python3.6/dist-packages (from tensorboard==1.15.0) (0.10.0)\n",
            "Requirement already satisfied: protobuf>=3.6.0 in /usr/local/lib/python3.6/dist-packages (from tensorboard==1.15.0) (3.12.4)\n",
            "Requirement already satisfied: setuptools>=41.0.0 in /usr/local/lib/python3.6/dist-packages (from tensorboard==1.15.0) (51.0.0)\n",
            "Requirement already satisfied: werkzeug>=0.11.15 in /usr/local/lib/python3.6/dist-packages (from tensorboard==1.15.0) (1.0.1)\n",
            "Requirement already satisfied: markdown>=2.6.8 in /usr/local/lib/python3.6/dist-packages (from tensorboard==1.15.0) (3.3.3)\n",
            "Requirement already satisfied: grpcio>=1.6.3 in /usr/local/lib/python3.6/dist-packages (from tensorboard==1.15.0) (1.32.0)\n",
            "Requirement already satisfied: numpy>=1.12.0 in /usr/local/lib/python3.6/dist-packages (from tensorboard==1.15.0) (1.19.4)\n",
            "Requirement already satisfied: wheel>=0.26; python_version >= \"3\" in /usr/local/lib/python3.6/dist-packages (from tensorboard==1.15.0) (0.36.2)\n",
            "Requirement already satisfied: six>=1.10.0 in /usr/local/lib/python3.6/dist-packages (from tensorboard==1.15.0) (1.15.0)\n",
            "Requirement already satisfied: google-pasta>=0.1.6 in /usr/local/lib/python3.6/dist-packages (from tensorflow==1.15.0) (0.2.0)\n",
            "Requirement already satisfied: opt-einsum>=2.3.2 in /usr/local/lib/python3.6/dist-packages (from tensorflow==1.15.0) (3.3.0)\n",
            "Requirement already satisfied: astor>=0.6.0 in /usr/local/lib/python3.6/dist-packages (from tensorflow==1.15.0) (0.8.1)\n",
            "Requirement already satisfied: wrapt>=1.11.1 in /usr/local/lib/python3.6/dist-packages (from tensorflow==1.15.0) (1.12.1)\n",
            "Collecting gast==0.2.2\n",
            "  Downloading https://files.pythonhosted.org/packages/4e/35/11749bf99b2d4e3cceb4d55ca22590b0d7c2c62b9de38ac4a4a7f4687421/gast-0.2.2.tar.gz\n",
            "Requirement already satisfied: termcolor>=1.1.0 in /usr/local/lib/python3.6/dist-packages (from tensorflow==1.15.0) (1.1.0)\n",
            "Requirement already satisfied: pyyaml in /usr/local/lib/python3.6/dist-packages (from Keras==2.2.5) (3.13)\n",
            "Requirement already satisfied: h5py in /usr/local/lib/python3.6/dist-packages (from Keras==2.2.5) (2.10.0)\n",
            "Requirement already satisfied: scipy>=0.14 in /usr/local/lib/python3.6/dist-packages (from Keras==2.2.5) (1.4.1)\n",
            "Requirement already satisfied: importlib-metadata; python_version < \"3.8\" in /usr/local/lib/python3.6/dist-packages (from markdown>=2.6.8->tensorboard==1.15.0) (3.3.0)\n",
            "Requirement already satisfied: typing-extensions>=3.6.4; python_version < \"3.8\" in /usr/local/lib/python3.6/dist-packages (from importlib-metadata; python_version < \"3.8\"->markdown>=2.6.8->tensorboard==1.15.0) (3.7.4.3)\n",
            "Requirement already satisfied: zipp>=0.5 in /usr/local/lib/python3.6/dist-packages (from importlib-metadata; python_version < \"3.8\"->markdown>=2.6.8->tensorboard==1.15.0) (3.4.0)\n",
            "Building wheels for collected packages: gast\n",
            "  Building wheel for gast (setup.py) ... \u001b[?25l\u001b[?25hdone\n",
            "  Created wheel for gast: filename=gast-0.2.2-cp36-none-any.whl size=7540 sha256=ce19f5d59a0270d4d0cf03838f2d873ba9ac21a49e4706e280315f8841e3821c\n",
            "  Stored in directory: /root/.cache/pip/wheels/5c/2e/7e/a1d4d4fcebe6c381f378ce7743a3ced3699feb89bcfbdadadd\n",
            "Successfully built gast\n",
            "\u001b[31mERROR: tensorflow-probability 0.11.0 has requirement gast>=0.3.2, but you'll have gast 0.2.2 which is incompatible.\u001b[0m\n",
            "Installing collected packages: tensorboard, Keras-Preprocessing, gast, Keras-Applications, tensorflow-estimator, tensorflow, tensorflow-gpu, tensorflow-gpu-estimator, Keras\n",
            "  Found existing installation: tensorboard 2.4.0\n",
            "    Uninstalling tensorboard-2.4.0:\n",
            "      Successfully uninstalled tensorboard-2.4.0\n",
            "  Found existing installation: Keras-Preprocessing 1.1.2\n",
            "    Uninstalling Keras-Preprocessing-1.1.2:\n",
            "      Successfully uninstalled Keras-Preprocessing-1.1.2\n",
            "  Found existing installation: gast 0.3.3\n",
            "    Uninstalling gast-0.3.3:\n",
            "      Successfully uninstalled gast-0.3.3\n",
            "  Found existing installation: tensorflow-estimator 2.4.0\n",
            "    Uninstalling tensorflow-estimator-2.4.0:\n",
            "      Successfully uninstalled tensorflow-estimator-2.4.0\n",
            "  Found existing installation: tensorflow 2.4.0\n",
            "    Uninstalling tensorflow-2.4.0:\n",
            "      Successfully uninstalled tensorflow-2.4.0\n",
            "  Found existing installation: Keras 2.4.3\n",
            "    Uninstalling Keras-2.4.3:\n",
            "      Successfully uninstalled Keras-2.4.3\n",
            "Successfully installed Keras-2.2.5 Keras-Applications-1.0.8 Keras-Preprocessing-1.1.0 gast-0.2.2 tensorboard-1.15.0 tensorflow-1.15.0 tensorflow-estimator-1.15.1 tensorflow-gpu-1.15.2 tensorflow-gpu-estimator-2.1.0\n"
          ],
          "name": "stdout"
        }
      ]
    },
    {
      "cell_type": "markdown",
      "metadata": {
        "id": "Sn7vKooXA8ah"
      },
      "source": [
        "## 데이터셋 관련 작업"
      ]
    },
    {
      "cell_type": "markdown",
      "metadata": {
        "id": "MNoZ4H6VBHla"
      },
      "source": [
        "### balloon 예제 폴더로 이동"
      ]
    },
    {
      "cell_type": "code",
      "metadata": {
        "colab": {
          "base_uri": "https://localhost:8080/"
        },
        "id": "Z73xneONN_fp",
        "outputId": "bdd6e68e-00c7-4918-ac50-61db66f82aec"
      },
      "source": [
        "%cd ./samples/balloon"
      ],
      "execution_count": null,
      "outputs": [
        {
          "output_type": "stream",
          "text": [
            "/content/Mask_RCNN/samples/balloon\n"
          ],
          "name": "stdout"
        }
      ]
    },
    {
      "cell_type": "markdown",
      "metadata": {
        "id": "-fWAI3TNBLra"
      },
      "source": [
        "### dataset 폴더 생성 및 하위 폴더 생성"
      ]
    },
    {
      "cell_type": "code",
      "metadata": {
        "colab": {
          "base_uri": "https://localhost:8080/"
        },
        "id": "p1PQn8t8Nt11",
        "outputId": "8561bc3b-4bca-4701-f1ce-db38e88f2165"
      },
      "source": [
        "%mkdir dataset\r\n",
        "%cd dataset/\r\n",
        "%mkdir train\r\n",
        "%mkdir val\r\n",
        "%cd ..\r\n",
        "%ls"
      ],
      "execution_count": null,
      "outputs": [
        {
          "output_type": "stream",
          "text": [
            "/content/Mask_RCNN/samples/balloon/dataset\n",
            "/content/Mask_RCNN/samples/balloon\n",
            "balloon.py  inspect_balloon_data.ipynb   README.md\n",
            "\u001b[0m\u001b[01;34mdataset\u001b[0m/    inspect_balloon_model.ipynb\n"
          ],
          "name": "stdout"
        }
      ]
    },
    {
      "cell_type": "markdown",
      "metadata": {
        "id": "YmutpuOABOgT"
      },
      "source": [
        "### (**중요!**) 미리 준비한 데이터를 train과 val 폴더에 업로드.\r\n"
      ]
    },
    {
      "cell_type": "markdown",
      "metadata": {
        "id": "allfSZJsBd3_"
      },
      "source": [
        "## 학습 시작"
      ]
    },
    {
      "cell_type": "code",
      "metadata": {
        "colab": {
          "base_uri": "https://localhost:8080/"
        },
        "id": "JcyCKj3rOFSe",
        "outputId": "def3269e-0381-4908-bd1e-68d127587bee"
      },
      "source": [
        "!python3 balloon.py train --dataset='/content/Mask_RCNN/samples/balloon/dataset' --weights=coco"
      ],
      "execution_count": null,
      "outputs": [
        {
          "output_type": "stream",
          "text": [
            "Using TensorFlow backend.\n",
            "Weights:  coco\n",
            "Dataset:  /content/Mask_RCNN/samples/balloon/dataset\n",
            "Logs:  /content/Mask_RCNN/logs\n",
            "\n",
            "Configurations:\n",
            "BACKBONE                       resnet101\n",
            "BACKBONE_STRIDES               [4, 8, 16, 32, 64]\n",
            "BATCH_SIZE                     2\n",
            "BBOX_STD_DEV                   [0.1 0.1 0.2 0.2]\n",
            "COMPUTE_BACKBONE_SHAPE         None\n",
            "DETECTION_MAX_INSTANCES        100\n",
            "DETECTION_MIN_CONFIDENCE       0.9\n",
            "DETECTION_NMS_THRESHOLD        0.3\n",
            "FPN_CLASSIF_FC_LAYERS_SIZE     1024\n",
            "GPU_COUNT                      1\n",
            "GRADIENT_CLIP_NORM             5.0\n",
            "IMAGES_PER_GPU                 2\n",
            "IMAGE_CHANNEL_COUNT            3\n",
            "IMAGE_MAX_DIM                  1024\n",
            "IMAGE_META_SIZE                14\n",
            "IMAGE_MIN_DIM                  800\n",
            "IMAGE_MIN_SCALE                0\n",
            "IMAGE_RESIZE_MODE              square\n",
            "IMAGE_SHAPE                    [1024 1024    3]\n",
            "LEARNING_MOMENTUM              0.9\n",
            "LEARNING_RATE                  0.001\n",
            "LOSS_WEIGHTS                   {'rpn_class_loss': 1.0, 'rpn_bbox_loss': 1.0, 'mrcnn_class_loss': 1.0, 'mrcnn_bbox_loss': 1.0, 'mrcnn_mask_loss': 1.0}\n",
            "MASK_POOL_SIZE                 14\n",
            "MASK_SHAPE                     [28, 28]\n",
            "MAX_GT_INSTANCES               100\n",
            "MEAN_PIXEL                     [123.7 116.8 103.9]\n",
            "MINI_MASK_SHAPE                (56, 56)\n",
            "NAME                           balloon\n",
            "NUM_CLASSES                    2\n",
            "POOL_SIZE                      7\n",
            "POST_NMS_ROIS_INFERENCE        1000\n",
            "POST_NMS_ROIS_TRAINING         2000\n",
            "PRE_NMS_LIMIT                  6000\n",
            "ROI_POSITIVE_RATIO             0.33\n",
            "RPN_ANCHOR_RATIOS              [0.5, 1, 2]\n",
            "RPN_ANCHOR_SCALES              (32, 64, 128, 256, 512)\n",
            "RPN_ANCHOR_STRIDE              1\n",
            "RPN_BBOX_STD_DEV               [0.1 0.1 0.2 0.2]\n",
            "RPN_NMS_THRESHOLD              0.7\n",
            "RPN_TRAIN_ANCHORS_PER_IMAGE    256\n",
            "STEPS_PER_EPOCH                100\n",
            "TOP_DOWN_PYRAMID_SIZE          256\n",
            "TRAIN_BN                       False\n",
            "TRAIN_ROIS_PER_IMAGE           200\n",
            "USE_MINI_MASK                  True\n",
            "USE_RPN_ROIS                   True\n",
            "VALIDATION_STEPS               50\n",
            "WEIGHT_DECAY                   0.0001\n",
            "\n",
            "\n",
            "WARNING:tensorflow:From /usr/local/lib/python3.6/dist-packages/keras/backend/tensorflow_backend.py:541: The name tf.placeholder is deprecated. Please use tf.compat.v1.placeholder instead.\n",
            "\n",
            "WARNING:tensorflow:From /usr/local/lib/python3.6/dist-packages/keras/backend/tensorflow_backend.py:66: The name tf.get_default_graph is deprecated. Please use tf.compat.v1.get_default_graph instead.\n",
            "\n",
            "WARNING:tensorflow:From /usr/local/lib/python3.6/dist-packages/keras/backend/tensorflow_backend.py:4432: The name tf.random_uniform is deprecated. Please use tf.random.uniform instead.\n",
            "\n",
            "WARNING:tensorflow:From /usr/local/lib/python3.6/dist-packages/keras/backend/tensorflow_backend.py:2139: The name tf.nn.fused_batch_norm is deprecated. Please use tf.compat.v1.nn.fused_batch_norm instead.\n",
            "\n",
            "WARNING:tensorflow:From /usr/local/lib/python3.6/dist-packages/keras/backend/tensorflow_backend.py:4267: The name tf.nn.max_pool is deprecated. Please use tf.nn.max_pool2d instead.\n",
            "\n",
            "WARNING:tensorflow:From /usr/local/lib/python3.6/dist-packages/keras/backend/tensorflow_backend.py:2239: The name tf.image.resize_nearest_neighbor is deprecated. Please use tf.compat.v1.image.resize_nearest_neighbor instead.\n",
            "\n",
            "WARNING:tensorflow:From /usr/local/lib/python3.6/dist-packages/tensorflow_core/python/ops/array_ops.py:1475: where (from tensorflow.python.ops.array_ops) is deprecated and will be removed in a future version.\n",
            "Instructions for updating:\n",
            "Use tf.where in 2.0, which has the same broadcast rule as np.where\n",
            "WARNING:tensorflow:From /content/Mask_RCNN/mrcnn/model.py:553: The name tf.random_shuffle is deprecated. Please use tf.random.shuffle instead.\n",
            "\n",
            "WARNING:tensorflow:From /content/Mask_RCNN/mrcnn/utils.py:202: The name tf.log is deprecated. Please use tf.math.log instead.\n",
            "\n",
            "WARNING:tensorflow:From /content/Mask_RCNN/mrcnn/model.py:600: calling crop_and_resize_v1 (from tensorflow.python.ops.image_ops_impl) with box_ind is deprecated and will be removed in a future version.\n",
            "Instructions for updating:\n",
            "box_ind is deprecated, use box_indices instead\n",
            "Downloading pretrained model to /content/Mask_RCNN/mask_rcnn_coco.h5 ...\n",
            "... done downloading pretrained model!\n",
            "Loading weights  /content/Mask_RCNN/mask_rcnn_coco.h5\n",
            "WARNING:tensorflow:From /usr/local/lib/python3.6/dist-packages/keras/backend/tensorflow_backend.py:190: The name tf.get_default_session is deprecated. Please use tf.compat.v1.get_default_session instead.\n",
            "\n",
            "WARNING:tensorflow:From /usr/local/lib/python3.6/dist-packages/keras/backend/tensorflow_backend.py:197: The name tf.ConfigProto is deprecated. Please use tf.compat.v1.ConfigProto instead.\n",
            "\n",
            "WARNING:tensorflow:From /usr/local/lib/python3.6/dist-packages/keras/backend/tensorflow_backend.py:203: The name tf.Session is deprecated. Please use tf.compat.v1.Session instead.\n",
            "\n",
            "2020-12-27 06:25:45.888985: I tensorflow/core/platform/cpu_feature_guard.cc:142] Your CPU supports instructions that this TensorFlow binary was not compiled to use: AVX2 FMA\n",
            "2020-12-27 06:25:45.894466: I tensorflow/core/platform/profile_utils/cpu_utils.cc:94] CPU Frequency: 2199995000 Hz\n",
            "2020-12-27 06:25:45.894719: I tensorflow/compiler/xla/service/service.cc:168] XLA service 0x18bf0d80 initialized for platform Host (this does not guarantee that XLA will be used). Devices:\n",
            "2020-12-27 06:25:45.894753: I tensorflow/compiler/xla/service/service.cc:176]   StreamExecutor device (0): Host, Default Version\n",
            "2020-12-27 06:25:45.898904: I tensorflow/stream_executor/platform/default/dso_loader.cc:44] Successfully opened dynamic library libcuda.so.1\n",
            "2020-12-27 06:25:46.082662: I tensorflow/stream_executor/cuda/cuda_gpu_executor.cc:983] successful NUMA node read from SysFS had negative value (-1), but there must be at least one NUMA node, so returning NUMA node zero\n",
            "2020-12-27 06:25:46.083365: I tensorflow/compiler/xla/service/service.cc:168] XLA service 0x18bf0f40 initialized for platform CUDA (this does not guarantee that XLA will be used). Devices:\n",
            "2020-12-27 06:25:46.083392: I tensorflow/compiler/xla/service/service.cc:176]   StreamExecutor device (0): Tesla T4, Compute Capability 7.5\n",
            "2020-12-27 06:25:46.084269: I tensorflow/stream_executor/cuda/cuda_gpu_executor.cc:983] successful NUMA node read from SysFS had negative value (-1), but there must be at least one NUMA node, so returning NUMA node zero\n",
            "2020-12-27 06:25:46.084851: I tensorflow/core/common_runtime/gpu/gpu_device.cc:1639] Found device 0 with properties: \n",
            "name: Tesla T4 major: 7 minor: 5 memoryClockRate(GHz): 1.59\n",
            "pciBusID: 0000:00:04.0\n",
            "2020-12-27 06:25:46.095644: I tensorflow/stream_executor/platform/default/dso_loader.cc:44] Successfully opened dynamic library libcudart.so.10.0\n",
            "2020-12-27 06:25:46.302477: I tensorflow/stream_executor/platform/default/dso_loader.cc:44] Successfully opened dynamic library libcublas.so.10.0\n",
            "2020-12-27 06:25:46.392882: I tensorflow/stream_executor/platform/default/dso_loader.cc:44] Successfully opened dynamic library libcufft.so.10.0\n",
            "2020-12-27 06:25:46.419000: I tensorflow/stream_executor/platform/default/dso_loader.cc:44] Successfully opened dynamic library libcurand.so.10.0\n",
            "2020-12-27 06:25:46.644190: I tensorflow/stream_executor/platform/default/dso_loader.cc:44] Successfully opened dynamic library libcusolver.so.10.0\n",
            "2020-12-27 06:25:46.793143: I tensorflow/stream_executor/platform/default/dso_loader.cc:44] Successfully opened dynamic library libcusparse.so.10.0\n",
            "2020-12-27 06:25:47.292998: I tensorflow/stream_executor/platform/default/dso_loader.cc:44] Successfully opened dynamic library libcudnn.so.7\n",
            "2020-12-27 06:25:47.293203: I tensorflow/stream_executor/cuda/cuda_gpu_executor.cc:983] successful NUMA node read from SysFS had negative value (-1), but there must be at least one NUMA node, so returning NUMA node zero\n",
            "2020-12-27 06:25:47.293898: I tensorflow/stream_executor/cuda/cuda_gpu_executor.cc:983] successful NUMA node read from SysFS had negative value (-1), but there must be at least one NUMA node, so returning NUMA node zero\n",
            "2020-12-27 06:25:47.294441: I tensorflow/core/common_runtime/gpu/gpu_device.cc:1767] Adding visible gpu devices: 0\n",
            "2020-12-27 06:25:47.294535: I tensorflow/stream_executor/platform/default/dso_loader.cc:44] Successfully opened dynamic library libcudart.so.10.0\n",
            "2020-12-27 06:25:47.295928: I tensorflow/core/common_runtime/gpu/gpu_device.cc:1180] Device interconnect StreamExecutor with strength 1 edge matrix:\n",
            "2020-12-27 06:25:47.295960: I tensorflow/core/common_runtime/gpu/gpu_device.cc:1186]      0 \n",
            "2020-12-27 06:25:47.295973: I tensorflow/core/common_runtime/gpu/gpu_device.cc:1199] 0:   N \n",
            "2020-12-27 06:25:47.296212: I tensorflow/stream_executor/cuda/cuda_gpu_executor.cc:983] successful NUMA node read from SysFS had negative value (-1), but there must be at least one NUMA node, so returning NUMA node zero\n",
            "2020-12-27 06:25:47.296800: I tensorflow/stream_executor/cuda/cuda_gpu_executor.cc:983] successful NUMA node read from SysFS had negative value (-1), but there must be at least one NUMA node, so returning NUMA node zero\n",
            "2020-12-27 06:25:47.297313: W tensorflow/core/common_runtime/gpu/gpu_bfc_allocator.cc:39] Overriding allow_growth setting because the TF_FORCE_GPU_ALLOW_GROWTH environment variable is set. Original config value was 0.\n",
            "2020-12-27 06:25:47.297385: I tensorflow/core/common_runtime/gpu/gpu_device.cc:1325] Created TensorFlow device (/job:localhost/replica:0/task:0/device:GPU:0 with 14221 MB memory) -> physical GPU (device: 0, name: Tesla T4, pci bus id: 0000:00:04.0, compute capability: 7.5)\n",
            "WARNING:tensorflow:From /usr/local/lib/python3.6/dist-packages/keras/backend/tensorflow_backend.py:207: The name tf.global_variables is deprecated. Please use tf.compat.v1.global_variables instead.\n",
            "\n",
            "WARNING:tensorflow:From /usr/local/lib/python3.6/dist-packages/keras/backend/tensorflow_backend.py:216: The name tf.is_variable_initialized is deprecated. Please use tf.compat.v1.is_variable_initialized instead.\n",
            "\n",
            "WARNING:tensorflow:From /usr/local/lib/python3.6/dist-packages/keras/backend/tensorflow_backend.py:223: The name tf.variables_initializer is deprecated. Please use tf.compat.v1.variables_initializer instead.\n",
            "\n",
            "Training network heads\n",
            "\n",
            "Starting at epoch 0. LR=0.001\n",
            "\n",
            "Checkpoint Path: /content/Mask_RCNN/logs/balloon20201227T0625/mask_rcnn_balloon_{epoch:04d}.h5\n",
            "Selecting layers to train\n",
            "fpn_c5p5               (Conv2D)\n",
            "fpn_c4p4               (Conv2D)\n",
            "fpn_c3p3               (Conv2D)\n",
            "fpn_c2p2               (Conv2D)\n",
            "fpn_p5                 (Conv2D)\n",
            "fpn_p2                 (Conv2D)\n",
            "fpn_p3                 (Conv2D)\n",
            "fpn_p4                 (Conv2D)\n",
            "In model:  rpn_model\n",
            "    rpn_conv_shared        (Conv2D)\n",
            "    rpn_class_raw          (Conv2D)\n",
            "    rpn_bbox_pred          (Conv2D)\n",
            "mrcnn_mask_conv1       (TimeDistributed)\n",
            "mrcnn_mask_bn1         (TimeDistributed)\n",
            "mrcnn_mask_conv2       (TimeDistributed)\n",
            "mrcnn_mask_bn2         (TimeDistributed)\n",
            "mrcnn_class_conv1      (TimeDistributed)\n",
            "mrcnn_class_bn1        (TimeDistributed)\n",
            "mrcnn_mask_conv3       (TimeDistributed)\n",
            "mrcnn_mask_bn3         (TimeDistributed)\n",
            "mrcnn_class_conv2      (TimeDistributed)\n",
            "mrcnn_class_bn2        (TimeDistributed)\n",
            "mrcnn_mask_conv4       (TimeDistributed)\n",
            "mrcnn_mask_bn4         (TimeDistributed)\n",
            "mrcnn_bbox_fc          (TimeDistributed)\n",
            "mrcnn_mask_deconv      (TimeDistributed)\n",
            "mrcnn_class_logits     (TimeDistributed)\n",
            "mrcnn_mask             (TimeDistributed)\n",
            "WARNING:tensorflow:From /usr/local/lib/python3.6/dist-packages/keras/optimizers.py:793: The name tf.train.Optimizer is deprecated. Please use tf.compat.v1.train.Optimizer instead.\n",
            "\n",
            "/usr/local/lib/python3.6/dist-packages/tensorflow_core/python/framework/indexed_slices.py:424: UserWarning: Converting sparse IndexedSlices to a dense Tensor of unknown shape. This may consume a large amount of memory.\n",
            "  \"Converting sparse IndexedSlices to a dense Tensor of unknown shape. \"\n",
            "/usr/local/lib/python3.6/dist-packages/tensorflow_core/python/framework/indexed_slices.py:424: UserWarning: Converting sparse IndexedSlices to a dense Tensor of unknown shape. This may consume a large amount of memory.\n",
            "  \"Converting sparse IndexedSlices to a dense Tensor of unknown shape. \"\n",
            "/usr/local/lib/python3.6/dist-packages/tensorflow_core/python/framework/indexed_slices.py:424: UserWarning: Converting sparse IndexedSlices to a dense Tensor of unknown shape. This may consume a large amount of memory.\n",
            "  \"Converting sparse IndexedSlices to a dense Tensor of unknown shape. \"\n",
            "WARNING:tensorflow:From /usr/local/lib/python3.6/dist-packages/keras/backend/tensorflow_backend.py:1033: The name tf.assign_add is deprecated. Please use tf.compat.v1.assign_add instead.\n",
            "\n",
            "WARNING:tensorflow:From /usr/local/lib/python3.6/dist-packages/keras/backend/tensorflow_backend.py:1020: The name tf.assign is deprecated. Please use tf.compat.v1.assign instead.\n",
            "\n",
            "/usr/local/lib/python3.6/dist-packages/keras/engine/training_generator.py:49: UserWarning: Using a generator with `use_multiprocessing=True` and multiple workers may duplicate your data. Please consider using the `keras.utils.Sequence class.\n",
            "  UserWarning('Using a generator with `use_multiprocessing=True`'\n",
            "WARNING:tensorflow:From /usr/local/lib/python3.6/dist-packages/keras/callbacks.py:1122: The name tf.summary.merge_all is deprecated. Please use tf.compat.v1.summary.merge_all instead.\n",
            "\n",
            "WARNING:tensorflow:From /usr/local/lib/python3.6/dist-packages/keras/callbacks.py:1125: The name tf.summary.FileWriter is deprecated. Please use tf.compat.v1.summary.FileWriter instead.\n",
            "\n",
            "Epoch 1/30\n",
            "2020-12-27 06:26:23.729059: I tensorflow/stream_executor/platform/default/dso_loader.cc:44] Successfully opened dynamic library libcublas.so.10.0\n",
            "2020-12-27 06:26:25.460013: I tensorflow/stream_executor/platform/default/dso_loader.cc:44] Successfully opened dynamic library libcudnn.so.7\n",
            "100/100 [==============================] - 171s 2s/step - loss: 1.0165 - rpn_class_loss: 0.0340 - rpn_bbox_loss: 0.2131 - mrcnn_class_loss: 0.0890 - mrcnn_bbox_loss: 0.4292 - mrcnn_mask_loss: 0.2511 - val_loss: 0.8393 - val_rpn_class_loss: 0.0393 - val_rpn_bbox_loss: 0.3500 - val_mrcnn_class_loss: 0.0786 - val_mrcnn_bbox_loss: 0.2257 - val_mrcnn_mask_loss: 0.1457\n",
            "WARNING:tensorflow:From /usr/local/lib/python3.6/dist-packages/keras/callbacks.py:1265: The name tf.Summary is deprecated. Please use tf.compat.v1.Summary instead.\n",
            "\n",
            "Epoch 2/30\n",
            "100/100 [==============================] - 116s 1s/step - loss: 0.4728 - rpn_class_loss: 0.0147 - rpn_bbox_loss: 0.0957 - mrcnn_class_loss: 0.0564 - mrcnn_bbox_loss: 0.1752 - mrcnn_mask_loss: 0.1308 - val_loss: 0.7002 - val_rpn_class_loss: 0.0401 - val_rpn_bbox_loss: 0.3565 - val_mrcnn_class_loss: 0.0538 - val_mrcnn_bbox_loss: 0.1320 - val_mrcnn_mask_loss: 0.1178\n",
            "Epoch 3/30\n",
            "100/100 [==============================] - 117s 1s/step - loss: 0.3337 - rpn_class_loss: 0.0095 - rpn_bbox_loss: 0.0627 - mrcnn_class_loss: 0.0515 - mrcnn_bbox_loss: 0.0881 - mrcnn_mask_loss: 0.1218 - val_loss: 0.7476 - val_rpn_class_loss: 0.0403 - val_rpn_bbox_loss: 0.3538 - val_mrcnn_class_loss: 0.0651 - val_mrcnn_bbox_loss: 0.1796 - val_mrcnn_mask_loss: 0.1088\n",
            "Epoch 4/30\n",
            "100/100 [==============================] - 117s 1s/step - loss: 0.2987 - rpn_class_loss: 0.0079 - rpn_bbox_loss: 0.0543 - mrcnn_class_loss: 0.0355 - mrcnn_bbox_loss: 0.0913 - mrcnn_mask_loss: 0.1096 - val_loss: 0.6843 - val_rpn_class_loss: 0.0400 - val_rpn_bbox_loss: 0.3853 - val_mrcnn_class_loss: 0.0570 - val_mrcnn_bbox_loss: 0.1000 - val_mrcnn_mask_loss: 0.1021\n",
            "Epoch 5/30\n",
            "100/100 [==============================] - 117s 1s/step - loss: 0.2382 - rpn_class_loss: 0.0058 - rpn_bbox_loss: 0.0448 - mrcnn_class_loss: 0.0336 - mrcnn_bbox_loss: 0.0562 - mrcnn_mask_loss: 0.0978 - val_loss: 0.8913 - val_rpn_class_loss: 0.0602 - val_rpn_bbox_loss: 0.5290 - val_mrcnn_class_loss: 0.0771 - val_mrcnn_bbox_loss: 0.1124 - val_mrcnn_mask_loss: 0.1125\n",
            "Epoch 6/30\n",
            "100/100 [==============================] - 117s 1s/step - loss: 0.2270 - rpn_class_loss: 0.0052 - rpn_bbox_loss: 0.0440 - mrcnn_class_loss: 0.0304 - mrcnn_bbox_loss: 0.0555 - mrcnn_mask_loss: 0.0919 - val_loss: 0.8567 - val_rpn_class_loss: 0.0528 - val_rpn_bbox_loss: 0.5093 - val_mrcnn_class_loss: 0.0633 - val_mrcnn_bbox_loss: 0.1078 - val_mrcnn_mask_loss: 0.1234\n",
            "Epoch 7/30\n",
            "100/100 [==============================] - 117s 1s/step - loss: 0.1984 - rpn_class_loss: 0.0049 - rpn_bbox_loss: 0.0340 - mrcnn_class_loss: 0.0270 - mrcnn_bbox_loss: 0.0493 - mrcnn_mask_loss: 0.0832 - val_loss: 0.7894 - val_rpn_class_loss: 0.0636 - val_rpn_bbox_loss: 0.4489 - val_mrcnn_class_loss: 0.0662 - val_mrcnn_bbox_loss: 0.1034 - val_mrcnn_mask_loss: 0.1074\n",
            "Epoch 8/30\n",
            "100/100 [==============================] - 117s 1s/step - loss: 0.1876 - rpn_class_loss: 0.0040 - rpn_bbox_loss: 0.0345 - mrcnn_class_loss: 0.0263 - mrcnn_bbox_loss: 0.0385 - mrcnn_mask_loss: 0.0842 - val_loss: 0.8133 - val_rpn_class_loss: 0.0620 - val_rpn_bbox_loss: 0.4863 - val_mrcnn_class_loss: 0.0621 - val_mrcnn_bbox_loss: 0.0950 - val_mrcnn_mask_loss: 0.1080\n",
            "Epoch 9/30\n",
            "100/100 [==============================] - 117s 1s/step - loss: 0.1753 - rpn_class_loss: 0.0038 - rpn_bbox_loss: 0.0270 - mrcnn_class_loss: 0.0225 - mrcnn_bbox_loss: 0.0354 - mrcnn_mask_loss: 0.0865 - val_loss: 1.0690 - val_rpn_class_loss: 0.0891 - val_rpn_bbox_loss: 0.7315 - val_mrcnn_class_loss: 0.0571 - val_mrcnn_bbox_loss: 0.0813 - val_mrcnn_mask_loss: 0.1098\n",
            "Epoch 10/30\n",
            "100/100 [==============================] - 116s 1s/step - loss: 0.1563 - rpn_class_loss: 0.0029 - rpn_bbox_loss: 0.0298 - mrcnn_class_loss: 0.0196 - mrcnn_bbox_loss: 0.0281 - mrcnn_mask_loss: 0.0761 - val_loss: 0.9124 - val_rpn_class_loss: 0.0639 - val_rpn_bbox_loss: 0.5918 - val_mrcnn_class_loss: 0.0617 - val_mrcnn_bbox_loss: 0.0862 - val_mrcnn_mask_loss: 0.1086\n",
            "Epoch 11/30\n",
            "100/100 [==============================] - 117s 1s/step - loss: 0.1434 - rpn_class_loss: 0.0027 - rpn_bbox_loss: 0.0244 - mrcnn_class_loss: 0.0169 - mrcnn_bbox_loss: 0.0208 - mrcnn_mask_loss: 0.0786 - val_loss: 1.0890 - val_rpn_class_loss: 0.0839 - val_rpn_bbox_loss: 0.7195 - val_mrcnn_class_loss: 0.0586 - val_mrcnn_bbox_loss: 0.0969 - val_mrcnn_mask_loss: 0.1301\n",
            "Epoch 12/30\n",
            "100/100 [==============================] - 117s 1s/step - loss: 0.1393 - rpn_class_loss: 0.0033 - rpn_bbox_loss: 0.0218 - mrcnn_class_loss: 0.0182 - mrcnn_bbox_loss: 0.0219 - mrcnn_mask_loss: 0.0740 - val_loss: 1.1256 - val_rpn_class_loss: 0.0859 - val_rpn_bbox_loss: 0.7256 - val_mrcnn_class_loss: 0.1029 - val_mrcnn_bbox_loss: 0.0944 - val_mrcnn_mask_loss: 0.1168\n",
            "Epoch 13/30\n",
            "100/100 [==============================] - 116s 1s/step - loss: 0.1290 - rpn_class_loss: 0.0027 - rpn_bbox_loss: 0.0194 - mrcnn_class_loss: 0.0164 - mrcnn_bbox_loss: 0.0195 - mrcnn_mask_loss: 0.0710 - val_loss: 1.1861 - val_rpn_class_loss: 0.0987 - val_rpn_bbox_loss: 0.8273 - val_mrcnn_class_loss: 0.0697 - val_mrcnn_bbox_loss: 0.0810 - val_mrcnn_mask_loss: 0.1094\n",
            "Epoch 14/30\n",
            "100/100 [==============================] - 117s 1s/step - loss: 0.1326 - rpn_class_loss: 0.0023 - rpn_bbox_loss: 0.0214 - mrcnn_class_loss: 0.0153 - mrcnn_bbox_loss: 0.0234 - mrcnn_mask_loss: 0.0702 - val_loss: 1.1009 - val_rpn_class_loss: 0.0832 - val_rpn_bbox_loss: 0.7327 - val_mrcnn_class_loss: 0.0649 - val_mrcnn_bbox_loss: 0.0921 - val_mrcnn_mask_loss: 0.1279\n",
            "Epoch 15/30\n",
            "100/100 [==============================] - 117s 1s/step - loss: 0.1346 - rpn_class_loss: 0.0027 - rpn_bbox_loss: 0.0225 - mrcnn_class_loss: 0.0152 - mrcnn_bbox_loss: 0.0227 - mrcnn_mask_loss: 0.0714 - val_loss: 1.1538 - val_rpn_class_loss: 0.0960 - val_rpn_bbox_loss: 0.7587 - val_mrcnn_class_loss: 0.0796 - val_mrcnn_bbox_loss: 0.0984 - val_mrcnn_mask_loss: 0.1210\n",
            "Epoch 16/30\n",
            "100/100 [==============================] - 117s 1s/step - loss: 0.1134 - rpn_class_loss: 0.0022 - rpn_bbox_loss: 0.0166 - mrcnn_class_loss: 0.0134 - mrcnn_bbox_loss: 0.0171 - mrcnn_mask_loss: 0.0641 - val_loss: 1.0988 - val_rpn_class_loss: 0.0873 - val_rpn_bbox_loss: 0.7144 - val_mrcnn_class_loss: 0.0827 - val_mrcnn_bbox_loss: 0.0915 - val_mrcnn_mask_loss: 0.1228\n",
            "Epoch 17/30\n",
            "100/100 [==============================] - 117s 1s/step - loss: 0.1242 - rpn_class_loss: 0.0023 - rpn_bbox_loss: 0.0186 - mrcnn_class_loss: 0.0149 - mrcnn_bbox_loss: 0.0182 - mrcnn_mask_loss: 0.0702 - val_loss: 0.9587 - val_rpn_class_loss: 0.0882 - val_rpn_bbox_loss: 0.5990 - val_mrcnn_class_loss: 0.0698 - val_mrcnn_bbox_loss: 0.0851 - val_mrcnn_mask_loss: 0.1166\n",
            "Epoch 18/30\n",
            "100/100 [==============================] - 117s 1s/step - loss: 0.1046 - rpn_class_loss: 0.0023 - rpn_bbox_loss: 0.0124 - mrcnn_class_loss: 0.0137 - mrcnn_bbox_loss: 0.0131 - mrcnn_mask_loss: 0.0631 - val_loss: 1.2470 - val_rpn_class_loss: 0.1150 - val_rpn_bbox_loss: 0.8512 - val_mrcnn_class_loss: 0.0630 - val_mrcnn_bbox_loss: 0.0882 - val_mrcnn_mask_loss: 0.1296\n",
            "Epoch 19/30\n",
            "100/100 [==============================] - 116s 1s/step - loss: 0.1045 - rpn_class_loss: 0.0025 - rpn_bbox_loss: 0.0127 - mrcnn_class_loss: 0.0125 - mrcnn_bbox_loss: 0.0152 - mrcnn_mask_loss: 0.0617 - val_loss: 1.0021 - val_rpn_class_loss: 0.0889 - val_rpn_bbox_loss: 0.6550 - val_mrcnn_class_loss: 0.0691 - val_mrcnn_bbox_loss: 0.0758 - val_mrcnn_mask_loss: 0.1133\n",
            "Epoch 20/30\n",
            "100/100 [==============================] - 117s 1s/step - loss: 0.0838 - rpn_class_loss: 0.0015 - rpn_bbox_loss: 0.0074 - mrcnn_class_loss: 0.0102 - mrcnn_bbox_loss: 0.0077 - mrcnn_mask_loss: 0.0570 - val_loss: 1.1416 - val_rpn_class_loss: 0.1095 - val_rpn_bbox_loss: 0.7294 - val_mrcnn_class_loss: 0.0950 - val_mrcnn_bbox_loss: 0.0844 - val_mrcnn_mask_loss: 0.1233\n",
            "Epoch 21/30\n",
            "100/100 [==============================] - 117s 1s/step - loss: 0.0847 - rpn_class_loss: 0.0017 - rpn_bbox_loss: 0.0076 - mrcnn_class_loss: 0.0120 - mrcnn_bbox_loss: 0.0073 - mrcnn_mask_loss: 0.0561 - val_loss: 1.0275 - val_rpn_class_loss: 0.1055 - val_rpn_bbox_loss: 0.6392 - val_mrcnn_class_loss: 0.0790 - val_mrcnn_bbox_loss: 0.0843 - val_mrcnn_mask_loss: 0.1195\n",
            "Epoch 22/30\n",
            "100/100 [==============================] - 117s 1s/step - loss: 0.0869 - rpn_class_loss: 0.0019 - rpn_bbox_loss: 0.0091 - mrcnn_class_loss: 0.0114 - mrcnn_bbox_loss: 0.0074 - mrcnn_mask_loss: 0.0571 - val_loss: 1.0302 - val_rpn_class_loss: 0.1018 - val_rpn_bbox_loss: 0.6331 - val_mrcnn_class_loss: 0.0737 - val_mrcnn_bbox_loss: 0.0870 - val_mrcnn_mask_loss: 0.1346\n",
            "Epoch 23/30\n",
            "100/100 [==============================] - 117s 1s/step - loss: 0.1012 - rpn_class_loss: 0.0019 - rpn_bbox_loss: 0.0140 - mrcnn_class_loss: 0.0123 - mrcnn_bbox_loss: 0.0149 - mrcnn_mask_loss: 0.0580 - val_loss: 1.0668 - val_rpn_class_loss: 0.1049 - val_rpn_bbox_loss: 0.6799 - val_mrcnn_class_loss: 0.0692 - val_mrcnn_bbox_loss: 0.0892 - val_mrcnn_mask_loss: 0.1236\n",
            "Epoch 24/30\n",
            "100/100 [==============================] - 117s 1s/step - loss: 0.0926 - rpn_class_loss: 0.0021 - rpn_bbox_loss: 0.0094 - mrcnn_class_loss: 0.0109 - mrcnn_bbox_loss: 0.0107 - mrcnn_mask_loss: 0.0596 - val_loss: 1.0082 - val_rpn_class_loss: 0.1082 - val_rpn_bbox_loss: 0.6098 - val_mrcnn_class_loss: 0.0699 - val_mrcnn_bbox_loss: 0.0845 - val_mrcnn_mask_loss: 0.1358\n",
            "Epoch 25/30\n",
            "100/100 [==============================] - 117s 1s/step - loss: 0.0795 - rpn_class_loss: 0.0017 - rpn_bbox_loss: 0.0067 - mrcnn_class_loss: 0.0103 - mrcnn_bbox_loss: 0.0078 - mrcnn_mask_loss: 0.0530 - val_loss: 0.9806 - val_rpn_class_loss: 0.1012 - val_rpn_bbox_loss: 0.6010 - val_mrcnn_class_loss: 0.0697 - val_mrcnn_bbox_loss: 0.0839 - val_mrcnn_mask_loss: 0.1246\n",
            "Epoch 26/30\n",
            "100/100 [==============================] - 117s 1s/step - loss: 0.0888 - rpn_class_loss: 0.0011 - rpn_bbox_loss: 0.0108 - mrcnn_class_loss: 0.0091 - mrcnn_bbox_loss: 0.0119 - mrcnn_mask_loss: 0.0559 - val_loss: 1.0290 - val_rpn_class_loss: 0.1065 - val_rpn_bbox_loss: 0.6603 - val_mrcnn_class_loss: 0.0637 - val_mrcnn_bbox_loss: 0.0782 - val_mrcnn_mask_loss: 0.1204\n",
            "Epoch 27/30\n",
            "100/100 [==============================] - 116s 1s/step - loss: 0.0876 - rpn_class_loss: 0.0016 - rpn_bbox_loss: 0.0104 - mrcnn_class_loss: 0.0113 - mrcnn_bbox_loss: 0.0085 - mrcnn_mask_loss: 0.0558 - val_loss: 1.1171 - val_rpn_class_loss: 0.1148 - val_rpn_bbox_loss: 0.7069 - val_mrcnn_class_loss: 0.0767 - val_mrcnn_bbox_loss: 0.0896 - val_mrcnn_mask_loss: 0.1291\n",
            "Epoch 28/30\n",
            "100/100 [==============================] - 117s 1s/step - loss: 0.0775 - rpn_class_loss: 0.0013 - rpn_bbox_loss: 0.0053 - mrcnn_class_loss: 0.0093 - mrcnn_bbox_loss: 0.0066 - mrcnn_mask_loss: 0.0550 - val_loss: 1.0288 - val_rpn_class_loss: 0.1079 - val_rpn_bbox_loss: 0.6201 - val_mrcnn_class_loss: 0.0860 - val_mrcnn_bbox_loss: 0.0873 - val_mrcnn_mask_loss: 0.1275\n",
            "Epoch 29/30\n",
            "100/100 [==============================] - 117s 1s/step - loss: 0.0747 - rpn_class_loss: 0.0017 - rpn_bbox_loss: 0.0045 - mrcnn_class_loss: 0.0104 - mrcnn_bbox_loss: 0.0063 - mrcnn_mask_loss: 0.0518 - val_loss: 1.1565 - val_rpn_class_loss: 0.1201 - val_rpn_bbox_loss: 0.7271 - val_mrcnn_class_loss: 0.0882 - val_mrcnn_bbox_loss: 0.0807 - val_mrcnn_mask_loss: 0.1405\n",
            "Epoch 30/30\n",
            "100/100 [==============================] - 117s 1s/step - loss: 0.0707 - rpn_class_loss: 0.0012 - rpn_bbox_loss: 0.0039 - mrcnn_class_loss: 0.0097 - mrcnn_bbox_loss: 0.0046 - mrcnn_mask_loss: 0.0514 - val_loss: 1.0184 - val_rpn_class_loss: 0.1125 - val_rpn_bbox_loss: 0.5966 - val_mrcnn_class_loss: 0.0943 - val_mrcnn_bbox_loss: 0.0806 - val_mrcnn_mask_loss: 0.1344\n"
          ],
          "name": "stdout"
        }
      ]
    },
    {
      "cell_type": "markdown",
      "metadata": {
        "id": "SXjiyxPGBiSW"
      },
      "source": [
        "## 학습 완료후 splash 기능으로 모델 성능 확인."
      ]
    },
    {
      "cell_type": "code",
      "metadata": {
        "colab": {
          "base_uri": "https://localhost:8080/"
        },
        "id": "6NyMgGje_uK_",
        "outputId": "a3dd3e83-76ec-49dc-db1b-cabb332b140b"
      },
      "source": [
        "!python3 balloon.py splash --weights='/content/Mask_RCNN/logs/balloon20201227T0625/mask_rcnn_balloon_0030.h5' --image='/content/Mask_RCNN/samples/balloon/dataset/val/14898532020_ba6199dd22_k.jpg'"
      ],
      "execution_count": null,
      "outputs": [
        {
          "output_type": "stream",
          "text": [
            "Using TensorFlow backend.\n",
            "Weights:  /content/Mask_RCNN/logs/balloon20201227T0625/mask_rcnn_balloon_0030.h5\n",
            "Dataset:  None\n",
            "Logs:  /content/Mask_RCNN/logs\n",
            "\n",
            "Configurations:\n",
            "BACKBONE                       resnet101\n",
            "BACKBONE_STRIDES               [4, 8, 16, 32, 64]\n",
            "BATCH_SIZE                     1\n",
            "BBOX_STD_DEV                   [0.1 0.1 0.2 0.2]\n",
            "COMPUTE_BACKBONE_SHAPE         None\n",
            "DETECTION_MAX_INSTANCES        100\n",
            "DETECTION_MIN_CONFIDENCE       0.9\n",
            "DETECTION_NMS_THRESHOLD        0.3\n",
            "FPN_CLASSIF_FC_LAYERS_SIZE     1024\n",
            "GPU_COUNT                      1\n",
            "GRADIENT_CLIP_NORM             5.0\n",
            "IMAGES_PER_GPU                 1\n",
            "IMAGE_CHANNEL_COUNT            3\n",
            "IMAGE_MAX_DIM                  1024\n",
            "IMAGE_META_SIZE                14\n",
            "IMAGE_MIN_DIM                  800\n",
            "IMAGE_MIN_SCALE                0\n",
            "IMAGE_RESIZE_MODE              square\n",
            "IMAGE_SHAPE                    [1024 1024    3]\n",
            "LEARNING_MOMENTUM              0.9\n",
            "LEARNING_RATE                  0.001\n",
            "LOSS_WEIGHTS                   {'rpn_class_loss': 1.0, 'rpn_bbox_loss': 1.0, 'mrcnn_class_loss': 1.0, 'mrcnn_bbox_loss': 1.0, 'mrcnn_mask_loss': 1.0}\n",
            "MASK_POOL_SIZE                 14\n",
            "MASK_SHAPE                     [28, 28]\n",
            "MAX_GT_INSTANCES               100\n",
            "MEAN_PIXEL                     [123.7 116.8 103.9]\n",
            "MINI_MASK_SHAPE                (56, 56)\n",
            "NAME                           balloon\n",
            "NUM_CLASSES                    2\n",
            "POOL_SIZE                      7\n",
            "POST_NMS_ROIS_INFERENCE        1000\n",
            "POST_NMS_ROIS_TRAINING         2000\n",
            "PRE_NMS_LIMIT                  6000\n",
            "ROI_POSITIVE_RATIO             0.33\n",
            "RPN_ANCHOR_RATIOS              [0.5, 1, 2]\n",
            "RPN_ANCHOR_SCALES              (32, 64, 128, 256, 512)\n",
            "RPN_ANCHOR_STRIDE              1\n",
            "RPN_BBOX_STD_DEV               [0.1 0.1 0.2 0.2]\n",
            "RPN_NMS_THRESHOLD              0.7\n",
            "RPN_TRAIN_ANCHORS_PER_IMAGE    256\n",
            "STEPS_PER_EPOCH                100\n",
            "TOP_DOWN_PYRAMID_SIZE          256\n",
            "TRAIN_BN                       False\n",
            "TRAIN_ROIS_PER_IMAGE           200\n",
            "USE_MINI_MASK                  True\n",
            "USE_RPN_ROIS                   True\n",
            "VALIDATION_STEPS               50\n",
            "WEIGHT_DECAY                   0.0001\n",
            "\n",
            "\n",
            "WARNING:tensorflow:From /usr/local/lib/python3.6/dist-packages/keras/backend/tensorflow_backend.py:541: The name tf.placeholder is deprecated. Please use tf.compat.v1.placeholder instead.\n",
            "\n",
            "WARNING:tensorflow:From /usr/local/lib/python3.6/dist-packages/keras/backend/tensorflow_backend.py:66: The name tf.get_default_graph is deprecated. Please use tf.compat.v1.get_default_graph instead.\n",
            "\n",
            "WARNING:tensorflow:From /usr/local/lib/python3.6/dist-packages/keras/backend/tensorflow_backend.py:4432: The name tf.random_uniform is deprecated. Please use tf.random.uniform instead.\n",
            "\n",
            "WARNING:tensorflow:From /usr/local/lib/python3.6/dist-packages/keras/backend/tensorflow_backend.py:2139: The name tf.nn.fused_batch_norm is deprecated. Please use tf.compat.v1.nn.fused_batch_norm instead.\n",
            "\n",
            "WARNING:tensorflow:From /usr/local/lib/python3.6/dist-packages/keras/backend/tensorflow_backend.py:4267: The name tf.nn.max_pool is deprecated. Please use tf.nn.max_pool2d instead.\n",
            "\n",
            "WARNING:tensorflow:From /usr/local/lib/python3.6/dist-packages/keras/backend/tensorflow_backend.py:2239: The name tf.image.resize_nearest_neighbor is deprecated. Please use tf.compat.v1.image.resize_nearest_neighbor instead.\n",
            "\n",
            "WARNING:tensorflow:From /content/Mask_RCNN/mrcnn/model.py:341: The name tf.log is deprecated. Please use tf.math.log instead.\n",
            "\n",
            "WARNING:tensorflow:From /content/Mask_RCNN/mrcnn/model.py:399: where (from tensorflow.python.ops.array_ops) is deprecated and will be removed in a future version.\n",
            "Instructions for updating:\n",
            "Use tf.where in 2.0, which has the same broadcast rule as np.where\n",
            "WARNING:tensorflow:From /content/Mask_RCNN/mrcnn/model.py:423: calling crop_and_resize_v1 (from tensorflow.python.ops.image_ops_impl) with box_ind is deprecated and will be removed in a future version.\n",
            "Instructions for updating:\n",
            "box_ind is deprecated, use box_indices instead\n",
            "WARNING:tensorflow:From /content/Mask_RCNN/mrcnn/model.py:720: The name tf.sets.set_intersection is deprecated. Please use tf.sets.intersection instead.\n",
            "\n",
            "WARNING:tensorflow:From /content/Mask_RCNN/mrcnn/model.py:722: The name tf.sparse_tensor_to_dense is deprecated. Please use tf.sparse.to_dense instead.\n",
            "\n",
            "WARNING:tensorflow:From /content/Mask_RCNN/mrcnn/model.py:772: to_float (from tensorflow.python.ops.math_ops) is deprecated and will be removed in a future version.\n",
            "Instructions for updating:\n",
            "Use `tf.cast` instead.\n",
            "Loading weights  /content/Mask_RCNN/logs/balloon20201227T0625/mask_rcnn_balloon_0030.h5\n",
            "WARNING:tensorflow:From /usr/local/lib/python3.6/dist-packages/keras/backend/tensorflow_backend.py:190: The name tf.get_default_session is deprecated. Please use tf.compat.v1.get_default_session instead.\n",
            "\n",
            "WARNING:tensorflow:From /usr/local/lib/python3.6/dist-packages/keras/backend/tensorflow_backend.py:197: The name tf.ConfigProto is deprecated. Please use tf.compat.v1.ConfigProto instead.\n",
            "\n",
            "WARNING:tensorflow:From /usr/local/lib/python3.6/dist-packages/keras/backend/tensorflow_backend.py:203: The name tf.Session is deprecated. Please use tf.compat.v1.Session instead.\n",
            "\n",
            "2020-12-27 07:31:48.958039: I tensorflow/core/platform/cpu_feature_guard.cc:142] Your CPU supports instructions that this TensorFlow binary was not compiled to use: AVX2 FMA\n",
            "2020-12-27 07:31:48.963811: I tensorflow/core/platform/profile_utils/cpu_utils.cc:94] CPU Frequency: 2199995000 Hz\n",
            "2020-12-27 07:31:48.964099: I tensorflow/compiler/xla/service/service.cc:168] XLA service 0x16d12f40 initialized for platform Host (this does not guarantee that XLA will be used). Devices:\n",
            "2020-12-27 07:31:48.964135: I tensorflow/compiler/xla/service/service.cc:176]   StreamExecutor device (0): Host, Default Version\n",
            "2020-12-27 07:31:48.980875: I tensorflow/stream_executor/platform/default/dso_loader.cc:44] Successfully opened dynamic library libcuda.so.1\n",
            "2020-12-27 07:31:49.137625: I tensorflow/stream_executor/cuda/cuda_gpu_executor.cc:983] successful NUMA node read from SysFS had negative value (-1), but there must be at least one NUMA node, so returning NUMA node zero\n",
            "2020-12-27 07:31:49.138296: I tensorflow/compiler/xla/service/service.cc:168] XLA service 0x16d13100 initialized for platform CUDA (this does not guarantee that XLA will be used). Devices:\n",
            "2020-12-27 07:31:49.138327: I tensorflow/compiler/xla/service/service.cc:176]   StreamExecutor device (0): Tesla T4, Compute Capability 7.5\n",
            "2020-12-27 07:31:49.138516: I tensorflow/stream_executor/cuda/cuda_gpu_executor.cc:983] successful NUMA node read from SysFS had negative value (-1), but there must be at least one NUMA node, so returning NUMA node zero\n",
            "2020-12-27 07:31:49.139086: I tensorflow/core/common_runtime/gpu/gpu_device.cc:1639] Found device 0 with properties: \n",
            "name: Tesla T4 major: 7 minor: 5 memoryClockRate(GHz): 1.59\n",
            "pciBusID: 0000:00:04.0\n",
            "2020-12-27 07:31:49.143197: I tensorflow/stream_executor/platform/default/dso_loader.cc:44] Successfully opened dynamic library libcudart.so.10.0\n",
            "2020-12-27 07:31:49.154853: I tensorflow/stream_executor/platform/default/dso_loader.cc:44] Successfully opened dynamic library libcublas.so.10.0\n",
            "2020-12-27 07:31:49.159393: I tensorflow/stream_executor/platform/default/dso_loader.cc:44] Successfully opened dynamic library libcufft.so.10.0\n",
            "2020-12-27 07:31:49.166584: I tensorflow/stream_executor/platform/default/dso_loader.cc:44] Successfully opened dynamic library libcurand.so.10.0\n",
            "2020-12-27 07:31:49.177072: I tensorflow/stream_executor/platform/default/dso_loader.cc:44] Successfully opened dynamic library libcusolver.so.10.0\n",
            "2020-12-27 07:31:49.183737: I tensorflow/stream_executor/platform/default/dso_loader.cc:44] Successfully opened dynamic library libcusparse.so.10.0\n",
            "2020-12-27 07:31:49.198474: I tensorflow/stream_executor/platform/default/dso_loader.cc:44] Successfully opened dynamic library libcudnn.so.7\n",
            "2020-12-27 07:31:49.198610: I tensorflow/stream_executor/cuda/cuda_gpu_executor.cc:983] successful NUMA node read from SysFS had negative value (-1), but there must be at least one NUMA node, so returning NUMA node zero\n",
            "2020-12-27 07:31:49.199233: I tensorflow/stream_executor/cuda/cuda_gpu_executor.cc:983] successful NUMA node read from SysFS had negative value (-1), but there must be at least one NUMA node, so returning NUMA node zero\n",
            "2020-12-27 07:31:49.199749: I tensorflow/core/common_runtime/gpu/gpu_device.cc:1767] Adding visible gpu devices: 0\n",
            "2020-12-27 07:31:49.199815: I tensorflow/stream_executor/platform/default/dso_loader.cc:44] Successfully opened dynamic library libcudart.so.10.0\n",
            "2020-12-27 07:31:49.200986: I tensorflow/core/common_runtime/gpu/gpu_device.cc:1180] Device interconnect StreamExecutor with strength 1 edge matrix:\n",
            "2020-12-27 07:31:49.201015: I tensorflow/core/common_runtime/gpu/gpu_device.cc:1186]      0 \n",
            "2020-12-27 07:31:49.201027: I tensorflow/core/common_runtime/gpu/gpu_device.cc:1199] 0:   N \n",
            "2020-12-27 07:31:49.201196: I tensorflow/stream_executor/cuda/cuda_gpu_executor.cc:983] successful NUMA node read from SysFS had negative value (-1), but there must be at least one NUMA node, so returning NUMA node zero\n",
            "2020-12-27 07:31:49.201738: I tensorflow/stream_executor/cuda/cuda_gpu_executor.cc:983] successful NUMA node read from SysFS had negative value (-1), but there must be at least one NUMA node, so returning NUMA node zero\n",
            "2020-12-27 07:31:49.202256: W tensorflow/core/common_runtime/gpu/gpu_bfc_allocator.cc:39] Overriding allow_growth setting because the TF_FORCE_GPU_ALLOW_GROWTH environment variable is set. Original config value was 0.\n",
            "2020-12-27 07:31:49.202298: I tensorflow/core/common_runtime/gpu/gpu_device.cc:1325] Created TensorFlow device (/job:localhost/replica:0/task:0/device:GPU:0 with 14221 MB memory) -> physical GPU (device: 0, name: Tesla T4, pci bus id: 0000:00:04.0, compute capability: 7.5)\n",
            "WARNING:tensorflow:From /usr/local/lib/python3.6/dist-packages/keras/backend/tensorflow_backend.py:207: The name tf.global_variables is deprecated. Please use tf.compat.v1.global_variables instead.\n",
            "\n",
            "WARNING:tensorflow:From /usr/local/lib/python3.6/dist-packages/keras/backend/tensorflow_backend.py:216: The name tf.is_variable_initialized is deprecated. Please use tf.compat.v1.is_variable_initialized instead.\n",
            "\n",
            "WARNING:tensorflow:From /usr/local/lib/python3.6/dist-packages/keras/backend/tensorflow_backend.py:223: The name tf.variables_initializer is deprecated. Please use tf.compat.v1.variables_initializer instead.\n",
            "\n",
            "Re-starting from epoch 30\n",
            "Running on /content/Mask_RCNN/samples/balloon/dataset/val/14898532020_ba6199dd22_k.jpg\n",
            "Processing 1 images\n",
            "image                    shape: (1365, 2048, 3)       min:    0.00000  max:  255.00000  uint8\n",
            "molded_images            shape: (1, 1024, 1024, 3)    min: -123.70000  max:  151.10000  float64\n",
            "image_metas              shape: (1, 14)               min:    0.00000  max: 2048.00000  float64\n",
            "anchors                  shape: (1, 261888, 4)        min:   -0.35390  max:    1.29134  float32\n",
            "2020-12-27 07:31:54.705496: I tensorflow/stream_executor/platform/default/dso_loader.cc:44] Successfully opened dynamic library libcublas.so.10.0\n",
            "2020-12-27 07:31:54.999450: I tensorflow/stream_executor/platform/default/dso_loader.cc:44] Successfully opened dynamic library libcudnn.so.7\n",
            "Saved to  splash_20201227T073200.png\n"
          ],
          "name": "stdout"
        }
      ]
    },
    {
      "cell_type": "markdown",
      "metadata": {
        "id": "0wFcrX5tBoBE"
      },
      "source": [
        "splash 기능은 모델이 얻어낸 mask를 기반으로 그 영역에 해당하는 부분만 색을 입히고 나머지 부분은 흑백처리함."
      ]
    }
  ]
}